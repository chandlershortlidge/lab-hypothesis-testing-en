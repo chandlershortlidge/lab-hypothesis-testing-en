{
 "cells": [
  {
   "cell_type": "markdown",
   "metadata": {},
   "source": [
    "# Before your start:\n",
    "- Read the README.md file\n",
    "- Comment as much as you can and use the resources (README.md file)\n",
    "- Happy learning!"
   ]
  },
  {
   "cell_type": "code",
   "execution_count": 10,
   "metadata": {},
   "outputs": [],
   "source": [
    "# import numpy and pandas\n",
    "import pandas as pd\n",
    "import numpy as np\n",
    "from scipy.stats import trim_mean, mode, skew, gaussian_kde, pearsonr, spearmanr, beta\n",
    "from statsmodels.stats.weightstats import ztest as ztest\n",
    "\n",
    "from scipy.stats import ttest_ind, norm, t\n",
    "from scipy.stats import f_oneway\n",
    "from scipy.stats import sem\n",
    "from scipy import stats\n",
    "import math"
   ]
  },
  {
   "cell_type": "markdown",
   "metadata": {},
   "source": [
    "# Challenge 1 - Exploring the Data\n",
    "\n",
    "In this challenge, we will examine all salaries of employees of the City of Chicago. We will start by loading the dataset and examining its contents"
   ]
  },
  {
   "cell_type": "code",
   "execution_count": 4,
   "metadata": {},
   "outputs": [],
   "source": [
    "# Run this code:\n",
    "salaries = pd.read_csv('Current_Employee_Names__Salaries__and_Position_Titles.csv')"
   ]
  },
  {
   "cell_type": "markdown",
   "metadata": {},
   "source": [
    "Examine the `salaries` dataset using the `head` function below."
   ]
  },
  {
   "cell_type": "code",
   "execution_count": 16,
   "metadata": {},
   "outputs": [
    {
     "name": "stdout",
     "output_type": "stream",
     "text": [
      "<class 'pandas.core.frame.DataFrame'>\n",
      "RangeIndex: 33183 entries, 0 to 33182\n",
      "Data columns (total 8 columns):\n",
      " #   Column             Non-Null Count  Dtype  \n",
      "---  ------             --------------  -----  \n",
      " 0   Name               33183 non-null  object \n",
      " 1   Job Titles         33183 non-null  object \n",
      " 2   Department         33183 non-null  object \n",
      " 3   Full or Part-Time  33183 non-null  object \n",
      " 4   Salary or Hourly   33183 non-null  object \n",
      " 5   Typical Hours      8022 non-null   float64\n",
      " 6   Annual Salary      25161 non-null  float64\n",
      " 7   Hourly Rate        8022 non-null   float64\n",
      "dtypes: float64(3), object(5)\n",
      "memory usage: 2.0+ MB\n"
     ]
    }
   ],
   "source": [
    "salaries.head()\n",
    "salaries.info()"
   ]
  },
  {
   "cell_type": "markdown",
   "metadata": {},
   "source": [
    "# Challenge 2 - Hypothesis Tests\n",
    "\n",
    "In this section of the lab, we will test whether the hourly wage of all hourly workers is significantly different from $30/hr. Import the correct one sample test function from scipy and perform the hypothesis test for a 95% two sided confidence interval."
   ]
  },
  {
   "cell_type": "code",
   "execution_count": 9,
   "metadata": {},
   "outputs": [
    {
     "name": "stdout",
     "output_type": "stream",
     "text": [
      "sample size: 8022\n",
      "sample mean: 32.78855771628023\n",
      "standard error: 0.1352368565101596\n"
     ]
    }
   ],
   "source": [
    "# filter for hourly \n",
    "salaries[\"Hourly Rate\"].isna().sum()\n",
    "hourly_salaries = salaries[\"Hourly Rate\"].dropna()\n",
    "\n",
    "# count for sample size\n",
    "print(f\"sample size: {len(hourly_salaries)}\")\n",
    "print(f\"sample mean: {sum(hourly_salaries) / len(hourly_salaries)}\")\n",
    "\n",
    "# Calculate standard error using stats.sem\n",
    "se = stats.sem(hourly_salaries)  # ddof=1 by default (sample-based)\n",
    "print(f\"standard error: {se}\")\n"
   ]
  },
  {
   "cell_type": "code",
   "execution_count": null,
   "metadata": {},
   "outputs": [
    {
     "name": "stdout",
     "output_type": "stream",
     "text": [
      "t = 20.62, p = 4.323e-92\n",
      "Reject H0: mean ≠ $30/hr (significant difference).\n"
     ]
    }
   ],
   "source": [
    "# Sample information\n",
    "sample_size = 8022\n",
    "sample_mean = 32.78855771628023\n",
    "sem = 0.1352368565101596\n",
    "previous_mean = 30\n",
    "\n",
    "# Calculate the test statistic (how far the sample mean of hourly wages is from the true mean of hourly wages)\n",
    "t_statistic = (sample_mean - previous_mean) / sem\n",
    "\n",
    "# Get the p-value (how likely it is that I would have the current sample if the mean of the population for the hourly wages was $30/hr)\n",
    "# two-sided p-value\n",
    "df = sample_size - 1\n",
    "p_value = 2 * stats.t.sf(abs(t_statistic), df=df)\n",
    "\n",
    "alpha = 0.05\n",
    "print(f\"t = {t_statistic:.2f}, p = {p_value:.4g}\")\n",
    "\n",
    "if p_value < alpha:\n",
    "    print(\"Reject H0: mean ≠ $30/hr (significant difference).\")\n",
    "else:\n",
    "    print(\"Fail to reject H0: not enough evidence of a difference.\")"
   ]
  },
  {
   "cell_type": "code",
   "execution_count": 13,
   "metadata": {},
   "outputs": [
    {
     "name": "stdout",
     "output_type": "stream",
     "text": [
      "t = 20.62, p = 4.323e-92\n"
     ]
    }
   ],
   "source": [
    "from scipy import stats\n",
    "\n",
    "res = stats.ttest_1samp(hourly_salaries, popmean=30, alternative=\"two-sided\")\n",
    "print(f\"t = {res.statistic:.2f}, p = {res.pvalue:.4g}\")"
   ]
  },
  {
   "cell_type": "markdown",
   "metadata": {},
   "source": [
    "# Challenge 3 - Constructing Confidence Intervals\n",
    "\n",
    "While testing our hypothesis is a great way to gather empirical evidence for accepting or rejecting the hypothesis, another way to gather evidence is by creating a confidence interval. A confidence interval gives us information about the true mean of the population. So for a 95% confidence interval, we are 95% sure that the mean of the population is within the confidence interval. \n",
    ").\n",
    "\n",
    "To read more about confidence intervals, click [here](https://en.wikipedia.org/wiki/Confidence_interval).\n",
    "\n",
    "\n",
    "In the cell below, we will construct a 95% confidence interval for the mean hourly wage of all hourly workers. \n",
    "\n",
    "The confidence interval is computed in SciPy using the `t.interval` function. You can read more about this function [here](https://docs.scipy.org/doc/scipy-0.14.0/reference/generated/scipy.stats.t.html).\n",
    "\n",
    "To compute the confidence interval of the hourly wage, use the 0.95 for the confidence level, number of rows - 1 for degrees of freedom, the mean of the sample for the location parameter and the standard error for the scale. The standard error can be computed using [this](https://docs.scipy.org/doc/scipy/reference/generated/scipy.stats.sem.html) function in SciPy."
   ]
  },
  {
   "cell_type": "code",
   "execution_count": 14,
   "metadata": {},
   "outputs": [
    {
     "name": "stdout",
     "output_type": "stream",
     "text": [
      "(np.float64(32.78559788218182), np.float64(32.79151755037864))\n"
     ]
    }
   ],
   "source": [
    "\n",
    "sample_mean = 32.78855771628023\n",
    "sample_std_dev = 0.1352368565101596\n",
    "sample_size = 8022\n",
    "confidence_level = 0.95\n",
    "\n",
    "confidence_interval = stats.t.interval(\n",
    "    confidence_level,\n",
    "    df=sample_size-1,\n",
    "    loc=sample_mean,\n",
    "    scale=sample_std_dev / np.sqrt(sample_size) # standard error\n",
    ")\n",
    "print(f\"{confidence_interval}\")\n",
    "\n",
    "# “95% confident the average hourly wage for all workers lies between $32.76 and $32.82 per hour. \n",
    "# this is > $30.00 per hour"
   ]
  },
  {
   "cell_type": "markdown",
   "metadata": {},
   "source": [
    "# Challenge 4 - Hypothesis Tests of Proportions\n",
    "\n",
    "Another type of one sample test is a hypothesis test of proportions. In this test, we examine whether the proportion of a group in our sample is significantly different than a fraction. \n",
    "\n",
    "You can read more about one sample proportion tests [here](http://sphweb.bumc.bu.edu/otlt/MPH-Modules/BS/SAS/SAS6-CategoricalData/SAS6-CategoricalData2.html).\n",
    "\n",
    "In the cell below, use the `proportions_ztest` function from `statsmodels` to perform a hypothesis test that will determine whether the number of hourly workers in the City of Chicago is significantly different from 25% at the 95% confidence level."
   ]
  },
  {
   "cell_type": "markdown",
   "metadata": {},
   "source": [
    "Null hypothesis (H0): 25% of all City of Chicago employees are hourly.\n",
    "\n",
    "Alternative (H1): That proportion is not 25%."
   ]
  },
  {
   "cell_type": "code",
   "execution_count": 24,
   "metadata": {},
   "outputs": [
    {
     "name": "stdout",
     "output_type": "stream",
     "text": [
      "z-statistic: -109.87731263171784\n",
      "p-value: 0.0\n",
      "Reject H0: the proportion of hourly workers is NOT 25%.\n"
     ]
    }
   ],
   "source": [
    "from statsmodels.stats.proportion import proportions_ztest\n",
    "\n",
    "# example: 520 yes out of 1000\n",
    "count = 8022     # number of hourly workers (successes)\n",
    "nobs = 33183     # total number of employees (sample size)\n",
    "value = 0.25      # null hypothesis proportion\n",
    "stat, pval = proportions_ztest(count, nobs, value=0.5, alternative=\"two-sided\")\n",
    "\n",
    "print(f\"z-statistic: {stat}\")\n",
    "print(f\"p-value: {pval}\")\n",
    "if pval < alpha:\n",
    "    print(\"Reject H0: the proportion of hourly workers is NOT 25%.\")\n",
    "else:\n",
    "    print(\"Fail to reject H0: not enough evidence of a difference.\")"
   ]
  },
  {
   "cell_type": "code",
   "execution_count": null,
   "metadata": {},
   "outputs": [],
   "source": []
  }
 ],
 "metadata": {
  "kernelspec": {
   "display_name": "Python 3",
   "language": "python",
   "name": "python3"
  },
  "language_info": {
   "codemirror_mode": {
    "name": "ipython",
    "version": 3
   },
   "file_extension": ".py",
   "mimetype": "text/x-python",
   "name": "python",
   "nbconvert_exporter": "python",
   "pygments_lexer": "ipython3",
   "version": "3.13.3"
  }
 },
 "nbformat": 4,
 "nbformat_minor": 2
}
